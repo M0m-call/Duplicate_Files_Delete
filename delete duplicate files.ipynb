{
 "cells": [
  {
   "cell_type": "markdown",
   "id": "85808492",
   "metadata": {},
   "source": [
    "## DELETE DUPLICATE FILES ##"
   ]
  },
  {
   "cell_type": "code",
   "execution_count": 5,
   "id": "6b0db994",
   "metadata": {},
   "outputs": [],
   "source": [
    "import os"
   ]
  },
  {
   "cell_type": "code",
   "execution_count": null,
   "id": "7969539c",
   "metadata": {},
   "outputs": [],
   "source": []
  },
  {
   "cell_type": "code",
   "execution_count": 109,
   "id": "bad61401",
   "metadata": {},
   "outputs": [],
   "source": [
    "##This helps in getting the file with its full path\n",
    "##i.e. just joing it's path to file name\n",
    "##(File with Path)\n",
    "\n",
    "def FilewPath (f,directory):\n",
    "    return os.path.join(directory,f)\n"
   ]
  },
  {
   "cell_type": "code",
   "execution_count": 132,
   "id": "0608f1a9",
   "metadata": {},
   "outputs": [],
   "source": [
    "## x is supposed to be a list here\n",
    "## returnes chopped off version of (1) or (2)\n",
    "def replace_name(x):\n",
    "    y=[]\n",
    "    for w in x:\n",
    "        if w != x[-2]:\n",
    "            y.append(w)\n",
    "        else:\n",
    "            y.append(w[:-2])\n",
    "    \n",
    "    return (\".\".join(y))"
   ]
  },
  {
   "cell_type": "code",
   "execution_count": 110,
   "id": "15e523d1",
   "metadata": {},
   "outputs": [],
   "source": [
    "##An Example\n",
    "my_dir = os.getcwd()"
   ]
  },
  {
   "cell_type": "code",
   "execution_count": 137,
   "id": "8beb4327",
   "metadata": {},
   "outputs": [
    {
     "name": "stdout",
     "output_type": "stream",
     "text": [
      ".ipynb_checkpoints\n",
      "delete duplicate files.ipynbreached\n",
      "untitled(2).txtreached\n",
      "untitled(2).txt --ends with (number) but it's not duplicate)\n",
      "Untitled.ipynbreached\n"
     ]
    }
   ],
   "source": [
    "##Directory we want to work with\n",
    "z=my_dir\n",
    "\n",
    "duplicate_identifier = (\"(1)\",\"(2)\",\"(3)\",\"(4)\")\n",
    "\n",
    "dup=tuple(duplicate_identifier)\n",
    "for f in os.listdir(z):\n",
    "    ##separate extension\n",
    "    ##check if it's a file\n",
    "    if os.path.isfile(FilewPath(f,z)) == False:\n",
    "        print(f)\n",
    "        continue\n",
    "        \n",
    "    else:\n",
    "        print(f + \"reached\")\n",
    "    ##separate name by . to get rid of it's extension\n",
    "        name_components=f.split(\".\")\n",
    "        if len(name_components) < 2:\n",
    "            continue\n",
    "        if name_components[-2].endswith(dup) == True:\n",
    "        ## we need to check weather the original file name after removing (1) or (2) exist or not\n",
    "            g =replace_name(f)\n",
    "            if os.path.exists(FilewPath(g,z)) == True:\n",
    "                os.remove(FilewPath(f,z))\n",
    "                print(f\"Successfully deleted duplicate file {f}\")\n",
    "            else:\n",
    "                print(f\"{f} --ends with (number) but it's not duplicate)\")\n",
    "                "
   ]
  },
  {
   "cell_type": "code",
   "execution_count": 98,
   "id": "42e00333",
   "metadata": {},
   "outputs": [
    {
     "data": {
      "text/plain": [
       "2"
      ]
     },
     "execution_count": 98,
     "metadata": {},
     "output_type": "execute_result"
    }
   ],
   "source": [
    "len([0,1])"
   ]
  },
  {
   "cell_type": "code",
   "execution_count": 79,
   "id": "bb08817f",
   "metadata": {},
   "outputs": [
    {
     "data": {
      "text/plain": [
       "False"
      ]
     },
     "execution_count": 79,
     "metadata": {},
     "output_type": "execute_result"
    }
   ],
   "source": [
    "x.endswith(\"glow\")"
   ]
  },
  {
   "cell_type": "code",
   "execution_count": 117,
   "id": "79f5e651",
   "metadata": {},
   "outputs": [],
   "source": [
    "a= [\"Hathi\",\"Mere(2)\",\"Sathi\"]\n",
    "b= []\n",
    "\n",
    "for w in a:\n",
    "    if w != a[-2]:\n",
    "        b.append(w)\n",
    "    else:\n",
    "        b.append(w[:-3])\n",
    "\n",
    "    "
   ]
  },
  {
   "cell_type": "code",
   "execution_count": 118,
   "id": "9fe187f1",
   "metadata": {},
   "outputs": [
    {
     "data": {
      "text/plain": [
       "'Mil'"
      ]
     },
     "execution_count": 118,
     "metadata": {},
     "output_type": "execute_result"
    }
   ],
   "source": [
    "a= \"Milap\"\n",
    "a[:-2]\n"
   ]
  },
  {
   "cell_type": "code",
   "execution_count": 119,
   "id": "c51dd999",
   "metadata": {},
   "outputs": [
    {
     "data": {
      "text/plain": [
       "['Hathi', 'Mere', 'Sathi']"
      ]
     },
     "execution_count": 119,
     "metadata": {},
     "output_type": "execute_result"
    }
   ],
   "source": [
    "b"
   ]
  },
  {
   "cell_type": "code",
   "execution_count": 128,
   "id": "bd964b9f",
   "metadata": {},
   "outputs": [],
   "source": [
    "c=(\" \".join(b))\n"
   ]
  },
  {
   "cell_type": "code",
   "execution_count": 133,
   "id": "fb0f8460",
   "metadata": {},
   "outputs": [],
   "source": [
    "c=replace_name(b)\n"
   ]
  },
  {
   "cell_type": "code",
   "execution_count": 134,
   "id": "78117abf",
   "metadata": {},
   "outputs": [
    {
     "data": {
      "text/plain": [
       "'Hathi.Me.Sathi'"
      ]
     },
     "execution_count": 134,
     "metadata": {},
     "output_type": "execute_result"
    }
   ],
   "source": [
    "c\n"
   ]
  },
  {
   "cell_type": "code",
   "execution_count": null,
   "id": "edd7369f",
   "metadata": {},
   "outputs": [],
   "source": []
  }
 ],
 "metadata": {
  "kernelspec": {
   "display_name": "Python 3 (ipykernel)",
   "language": "python",
   "name": "python3"
  },
  "language_info": {
   "codemirror_mode": {
    "name": "ipython",
    "version": 3
   },
   "file_extension": ".py",
   "mimetype": "text/x-python",
   "name": "python",
   "nbconvert_exporter": "python",
   "pygments_lexer": "ipython3",
   "version": "3.10.1"
  }
 },
 "nbformat": 4,
 "nbformat_minor": 5
}
