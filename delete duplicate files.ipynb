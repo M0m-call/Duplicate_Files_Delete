{
 "cells": [
  {
   "cell_type": "markdown",
   "id": "ef1d83cf",
   "metadata": {},
   "source": [
    "## DELETE DUPLICATE FILES ##"
   ]
  },
  {
   "cell_type": "code",
   "execution_count": 138,
   "id": "50ee4cf3",
   "metadata": {},
   "outputs": [],
   "source": [
    "import os"
   ]
  },
  {
   "cell_type": "code",
   "execution_count": 109,
   "id": "4d1147ca",
   "metadata": {},
   "outputs": [],
   "source": [
    "##This helps in getting the file with its full path\n",
    "##i.e. just joing it's path to file name\n",
    "##(File with Path)\n",
    "\n",
    "def FilewPath (f,directory):\n",
    "    return os.path.join(directory,f)\n"
   ]
  },
  {
   "cell_type": "code",
   "execution_count": 132,
   "id": "3f5eae7a",
   "metadata": {},
   "outputs": [],
   "source": [
    "## x is supposed to be a list here\n",
    "## returnes chopped off version of (1) or (2)\n",
    "def replace_name(x):\n",
    "    y=[]\n",
    "    for w in x:\n",
    "        if w != x[-2]:\n",
    "            y.append(w)\n",
    "        else:\n",
    "            y.append(w[:-2])\n",
    "    \n",
    "    return (\".\".join(y))"
   ]
  },
  {
   "cell_type": "code",
   "execution_count": 110,
   "id": "484bb825",
   "metadata": {},
   "outputs": [],
   "source": [
    "##An Example\n",
    "my_dir = os.getcwd()"
   ]
  },
  {
   "cell_type": "code",
   "execution_count": 140,
   "id": "bfd36798",
   "metadata": {},
   "outputs": [
    {
     "name": "stdout",
     "output_type": "stream",
     "text": [
      "untitled(2).txt --ends with (number) but it's not duplicate)\n"
     ]
    }
   ],
   "source": [
    "##Directory we want to work with\n",
    "z=my_dir\n",
    "\n",
    "duplicate_identifier = (\"(1)\",\"(2)\",\"(3)\",\"(4)\")\n",
    "\n",
    "dup=tuple(duplicate_identifier)\n",
    "for f in os.listdir(z):\n",
    "    ##separate extension\n",
    "    ##check if it's a file\n",
    "    if os.path.isfile(FilewPath(f,z)) == False:\n",
    "        #print(f)\n",
    "        continue\n",
    "        \n",
    "    else:\n",
    "        #print(f + \"reached\")\n",
    "    ##separate name by . to get rid of it's extension\n",
    "        name_components=f.split(\".\")\n",
    "        if len(name_components) < 2:\n",
    "            continue\n",
    "        if name_components[-2].endswith(dup) == True:\n",
    "        ## we need to check weather the original file name after removing (1) or (2) exist or not\n",
    "            g =replace_name(f)\n",
    "            if os.path.exists(FilewPath(g,z)) == True:\n",
    "                os.remove(FilewPath(f,z))\n",
    "                print(f\"Successfully deleted duplicate file {f}\")\n",
    "            else:\n",
    "                print(f\"{f} --ends with (number) but it's not duplicate)\")\n",
    "                "
   ]
  },
  {
   "cell_type": "code",
   "execution_count": null,
   "id": "c37253b0",
   "metadata": {},
   "outputs": [],
   "source": []
  }
 ],
 "metadata": {
  "kernelspec": {
   "display_name": "Python 3 (ipykernel)",
   "language": "python",
   "name": "python3"
  },
  "language_info": {
   "codemirror_mode": {
    "name": "ipython",
    "version": 3
   },
   "file_extension": ".py",
   "mimetype": "text/x-python",
   "name": "python",
   "nbconvert_exporter": "python",
   "pygments_lexer": "ipython3",
   "version": "3.10.1"
  }
 },
 "nbformat": 4,
 "nbformat_minor": 5
}
